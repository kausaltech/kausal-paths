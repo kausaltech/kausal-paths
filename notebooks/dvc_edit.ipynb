{
 "cells": [
  {
   "cell_type": "code",
   "execution_count": null,
   "id": "e0786875-6ddc-4027-89bc-9f63cbcf6e89",
   "metadata": {},
   "outputs": [],
   "source": [
    "# Edit these according to the dataset:\n",
    "ETAG = 'e7c328407e196667525d68aa24d5d83f' # (md5 hash of the dataset, from dvctest repo)\n",
    "OUT_DVC_PATH = 'helsinki/aluesarjat/02um_rakennukset_lammitys'"
   ]
  },
  {
   "cell_type": "code",
   "execution_count": null,
   "id": "05cd6471-e7c3-4562-9fea-dbd71f26c1e8",
   "metadata": {},
   "outputs": [],
   "source": [
    "import pandas as pd\n",
    "import polars as pl\n",
    "\n",
    "# Find the dataset according to etag\n",
    "path = f'https://s3.kausal.tech/datasets/files/md5/{ETAG[:2]}/{ETAG[2:]}'\n",
    "df_pl = pl.read_parquet(path)\n",
    "df_pd = pd.read_parquet(path)\n",
    "\n",
    "# Check returned dataset\n",
    "df_pl"
   ]
  },
  {
   "cell_type": "code",
   "execution_count": null,
   "id": "b4258de8-a050-4d4d-ab06-159e7bcebdaf",
   "metadata": {},
   "outputs": [],
   "source": [
    "# Do the edits you need\n",
    "pass\n",
    "\n",
    "# Check output\n",
    "df_pl"
   ]
  },
  {
   "cell_type": "code",
   "execution_count": null,
   "id": "1209abbb-5684-45c9-b0e7-83bff53c1f5d",
   "metadata": {},
   "outputs": [],
   "source": [
    "import os\n",
    "\n",
    "from dotenv import load_dotenv\n",
    "from dvc_pandas import Dataset, DatasetMeta, Repository, RepositoryCredentials\n",
    "\n",
    "# Store edited dataset\n",
    "load_dotenv()\n",
    "credentials = RepositoryCredentials(\n",
    "    git_username=os.getenv('DVC_PANDAS_GIT_USERNAME'),\n",
    "    git_token=os.getenv('DVC_PANDAS_GIT_TOKEN'),\n",
    "    git_ssh_public_key_file=os.getenv('DVC_SSH_PUBLIC_KEY_FILE'),\n",
    "    git_ssh_private_key_file=os.getenv('DVC_SSH_PRIVATE_KEY_FILE'),\n",
    ")\n",
    "metadata = DatasetMeta(\n",
    "    identifier=OUT_DVC_PATH,\n",
    ")\n",
    "dataset = Dataset(\n",
    "    df=df_pl,\n",
    "    meta=metadata,\n",
    ")\n",
    "repo = Repository(\n",
    "    repo_url='https://github.com/kausaltech/dvctest.git',\n",
    "    dvc_remote='kausal-s3',\n",
    "    repo_credentials=credentials,\n",
    ")\n",
    "repo.push_dataset(dataset)"
   ]
  }
 ],
 "metadata": {
  "kernelspec": {
   "display_name": "Python 3 (ipykernel)",
   "language": "python",
   "name": "python3"
  },
  "language_info": {
   "codemirror_mode": {
    "name": "ipython",
    "version": 3
   },
   "file_extension": ".py",
   "mimetype": "text/x-python",
   "name": "python",
   "nbconvert_exporter": "python",
   "pygments_lexer": "ipython3",
   "version": "3.13.1"
  }
 },
 "nbformat": 4,
 "nbformat_minor": 5
}
