{
 "cells": [
  {
   "cell_type": "code",
   "execution_count": null,
   "id": "d6b895a5-614f-48f4-8d3a-168fff782ba7",
   "metadata": {},
   "outputs": [],
   "source": [
    "from __future__ import annotations\n",
    "\n",
    "from typing import TYPE_CHECKING\n",
    "\n",
    "# If the imports below fail and you're using VSCode, make the following change\n",
    "# in your user JSON preferences:\n",
    "#     \"jupyter.notebookFileRoot\": \"${workspaceFolder}\",\n",
    "from common.jupyter import get_nodes\n",
    "\n",
    "if TYPE_CHECKING:\n",
    "    from nodes.actions.action import ActionNode\n",
    "    from nodes.context import Context\n",
    "    from nodes.node import Node"
   ]
  },
  {
   "cell_type": "code",
   "execution_count": null,
   "id": "1bf31f38-b91d-4296-81a5-7e547aec8792",
   "metadata": {},
   "outputs": [],
   "source": [
    "from typing import cast\n",
    "\n",
    "from nodes.datasets import DVCDataset\n",
    "\n",
    "nodes = get_nodes('zuerich')\n",
    "ctx: Context = nodes.context\n",
    "act_nodes = cast(\n",
    "    'list[ActionNode]',\n",
    "    [\n",
    "        nodes['fossil_fuel_heater_to_district_heat'],\n",
    "        nodes['fossil_fuel_heater_to_heat_pumps'],\n",
    "        nodes['fossil_fuel_heater_to_other'],\n",
    "    ],\n",
    ")\n",
    "outcome_node: Node = nodes['building_heat_mix']\n",
    "ds = DVCDataset('zuerich/building_heat_mix_goals', tags=[])\n",
    "goal_df = ds.get_copy(ctx, node_id='')"
   ]
  },
  {
   "cell_type": "code",
   "execution_count": null,
   "id": "bb5e39b4",
   "metadata": {},
   "outputs": [],
   "source": [
    "from optimizer.optimize import Optimizer\n",
    "\n",
    "optz = Optimizer(ctx, outcome_node, goal_df, act_nodes)\n",
    "params = optz.run()"
   ]
  },
  {
   "cell_type": "code",
   "execution_count": null,
   "id": "d72a5224-950a-4bd1-974e-5523b868fdd8",
   "metadata": {},
   "outputs": [],
   "source": [
    "params.print_params()\n",
    "# params.save_to_yaml(ctx.instance)"
   ]
  }
 ],
 "metadata": {
  "kernelspec": {
   "display_name": "Python 3 (ipykernel)",
   "language": "python",
   "name": "python3"
  },
  "language_info": {
   "codemirror_mode": {
    "name": "ipython",
    "version": 3
   },
   "file_extension": ".py",
   "mimetype": "text/x-python",
   "name": "python",
   "nbconvert_exporter": "python",
   "pygments_lexer": "ipython3",
   "version": "3.11.6"
  }
 },
 "nbformat": 4,
 "nbformat_minor": 5
}
